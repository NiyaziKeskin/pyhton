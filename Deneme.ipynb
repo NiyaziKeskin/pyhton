{
 "cells": [
  {
   "cell_type": "markdown",
   "id": "39b5e026-af43-4ebc-a087-4b3804dd823d",
   "metadata": {},
   "source": [
    "## 1. Hafta Ödevi"
   ]
  },
  {
   "cell_type": "code",
   "execution_count": 31,
   "id": "4208840a-3423-4234-bfb2-9a8e7520672b",
   "metadata": {},
   "outputs": [],
   "source": [
    "# 1.Soru\n",
    "# Python'da Veri Tiplerini araştırınız, her bir veri tipi için kendi cümlelerinizle açıklamalar yazınız.\n"
   ]
  },
  {
   "cell_type": "markdown",
   "id": "433f6d80-7762-408b-9998-b9ac5b1afe5b",
   "metadata": {},
   "source": [
    "**String**: Metin yazım tipidir. \n",
    "\n",
    "**İnteger**: Tam sayıları ifade eden veri tipidir. Negatif ve pozitif sonsuz tamsayı bu gruba girer.\n",
    "\n",
    "**Float**: Ondalıklı sayıları ifade eden veri tipidir. \n",
    "\n",
    "**Complex**: Bu ifade karmaşık sayıların gerçek ve gerçek olmayan kısımlarını barındırır. \n",
    "\n",
    "**List**: Listeler, birden çok öğeyi tek bir değişkende depolamak için kullanılır.\n",
    "\n",
    "**Tuple**: Tuple() ayraçlarla kullanılır. Birden çok öğeyi bir değişkende depolamak için kullanılır.\n",
    "\n",
    "**Dictionary**: İçinde verilerin tutulduğu bir veri tipidir.\n",
    "\n",
    "**Set**: List, dictionary ve tuple veri türü gibi birden çok veri türünü içerebilir.Standart küme işlemleri gerçekleştirebilirsiniz.\n",
    "\n",
    "**Boolean**: Doğrulama yapar. True, False gibi.\n",
    "\n",
    "**Binary**: Bytes ve bytearray, ikili verileri işlemek için kullanılır. Memoryview, bir kopya oluşturmaya gerek kalmadan diğer ikili nesnelerin belleğine erişmek için arabellek protokolünü kullanır."
   ]
  },
  {
   "cell_type": "code",
   "execution_count": 32,
   "id": "d0cbda08-4101-41fb-969b-b1e1ddb15557",
   "metadata": {},
   "outputs": [],
   "source": [
    "# 2. Soru\n",
    "# Kodlama.io sitesinde değişken olarak kullanıldığını düşündüğünüz verileri, veri tipleriyle birlikte örneklendiriniz."
   ]
  },
  {
   "cell_type": "markdown",
   "id": "0b5d5e3c-0518-453b-9b18-5f9404e5f8a8",
   "metadata": {},
   "source": [
    "veriler = kurs programı , eğitmeniniz\n",
    "\n",
    "kurs programı = ders drogramı(string), değerlendirme(string)\n",
    "\n",
    "eğitmeniniz = Halit Enes Kalaycı (string)"
   ]
  },
  {
   "cell_type": "code",
   "execution_count": 34,
   "id": "f1125e1c-f318-4c0f-b92c-99aad4a7ac39",
   "metadata": {},
   "outputs": [],
   "source": [
    "# 3. Soru\n",
    "# Kodlama.io sitesinde şart blokları kullanıldığını düşündüğünüz kısımları örneklendiriniz ve Python dilinde bu örnekleri koda dökünüz."
   ]
  },
  {
   "cell_type": "code",
   "execution_count": 35,
   "id": "b82fa0e4-dcee-4268-817e-81c4a1ead4c6",
   "metadata": {},
   "outputs": [
    {
     "name": "stdin",
     "output_type": "stream",
     "text": [
      "Mail adresinizi giriniz:  nekkeskin@outlook.com\n",
      "Password giriniz:  keskin2536\n"
     ]
    },
    {
     "name": "stdout",
     "output_type": "stream",
     "text": [
      "Giriş başarılı...\n"
     ]
    }
   ],
   "source": [
    "mail_adresi = \"nekkeskin@outlook.com\"\n",
    "sifre = \"keskin2536\"\n",
    "\n",
    "Email = input(\"Mail adresinizi giriniz: \")\n",
    "Password = input(\"Password giriniz: \")\n",
    "\n",
    "if (Email == \"nekkeskin@outlook.com\") and (Password == \"keskin2536\" ):\n",
    "    print(\"Giriş başarılı...\")\n",
    "else:\n",
    "    print(\"Hatalı giriş.\")"
   ]
  }
 ],
 "metadata": {
  "kernelspec": {
   "display_name": "Python 3 (ipykernel)",
   "language": "python",
   "name": "python3"
  },
  "language_info": {
   "codemirror_mode": {
    "name": "ipython",
    "version": 3
   },
   "file_extension": ".py",
   "mimetype": "text/x-python",
   "name": "python",
   "nbconvert_exporter": "python",
   "pygments_lexer": "ipython3",
   "version": "3.9.16"
  }
 },
 "nbformat": 4,
 "nbformat_minor": 5
}
